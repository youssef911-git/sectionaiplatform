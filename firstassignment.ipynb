{
  "nbformat": 4,
  "nbformat_minor": 0,
  "metadata": {
    "colab": {
      "provenance": [],
      "authorship_tag": "ABX9TyMzYQBL1rAKBFPlBHFgr/Qk",
      "include_colab_link": true
    },
    "kernelspec": {
      "name": "python3",
      "display_name": "Python 3"
    },
    "language_info": {
      "name": "python"
    }
  },
  "cells": [
    {
      "cell_type": "markdown",
      "metadata": {
        "id": "view-in-github",
        "colab_type": "text"
      },
      "source": [
        "<a href=\"https://colab.research.google.com/github/youssef911-git/sectionaiplatform/blob/main/firstassignment.ipynb\" target=\"_parent\"><img src=\"https://colab.research.google.com/assets/colab-badge.svg\" alt=\"Open In Colab\"/></a>"
      ]
    },
    {
      "cell_type": "code",
      "execution_count": null,
      "metadata": {
        "id": "nAkyGyMZvhMq"
      },
      "outputs": [],
      "source": []
    },
    {
      "cell_type": "code",
      "source": [
        "from google.colab import drive\n",
        "drive.mount('/content/drive')"
      ],
      "metadata": {
        "colab": {
          "base_uri": "https://localhost:8080/"
        },
        "id": "nmEGnSCC2f55",
        "outputId": "d1db1ac6-2d92-4536-aad5-7d4b36fb834e"
      },
      "execution_count": null,
      "outputs": [
        {
          "output_type": "stream",
          "name": "stdout",
          "text": [
            "Mounted at /content/drive\n"
          ]
        }
      ]
    },
    {
      "cell_type": "code",
      "source": [
        "import torch\n",
        "import torch.nn as nn\n",
        "import torch.nn.functional as F\n",
        "from torch.optim import SGD\n",
        "\n",
        "import matplotlib.pyplot as plt\n",
        "import seaborn as sns"
      ],
      "metadata": {
        "id": "Ai-8m5Z325Af"
      },
      "execution_count": 33,
      "outputs": []
    },
    {
      "cell_type": "code",
      "source": [
        "class firstNN(nn.Module):\n",
        "  def __init__(self):\n",
        "    super().__init__()\n",
        "    self.w00=nn.Parameter(torch.rand(1),requires_grad=False)\n",
        "    self.b00=nn.Parameter(torch.rand(1),requires_grad=False)\n",
        "    self.w01=nn.Parameter(torch.rand(1),requires_grad=False)\n",
        "    self.b01=nn.Parameter(torch.rand(1),requires_grad=False)\n",
        "    self.w02=nn.Parameter(torch.rand(1),requires_grad=False)\n",
        "    self.b02=nn.Parameter(torch.rand(1),requires_grad=False)\n",
        "    self.w10=nn.Parameter(torch.rand(1),requires_grad=False)\n",
        "    self.w11=nn.Parameter(torch.rand(1),requires_grad=False)\n",
        "    self.w12=nn.Parameter(torch.rand(1),requires_grad=False)\n",
        "    self.w20=nn.Parameter(torch.rand(1),requires_grad=False)\n",
        "  def forward(self, input):\n",
        "        input_to_layer_01 = input * self.w00 + self.b00\n",
        "        layer_01_output = F.sigmoid(input_to_layer_01)\n",
        "        layer_01_output = layer_01_output * self.w10\n",
        "\n",
        "        input_to_layer_02 = input * self.w01 + self.b01\n",
        "        layer_02_output = F.sigmoid(input_to_layer_02)\n",
        "        layer_02_output = layer_02_output * self.w11\n",
        "\n",
        "        input_to_layer_03 = input * self.w02 + self.b02\n",
        "        layer_03_output = F.sigmoid(input_to_layer_03)\n",
        "        layer_03_output = layer_03_output * self.w12\n",
        "\n",
        "        output = layer_01_output + layer_02_output + layer_03_output\n",
        "\n",
        "        output = F.tanh(output)\n",
        "        output = output * self.w20\n",
        "        return output"
      ],
      "metadata": {
        "id": "hujGVvwTZuvH"
      },
      "execution_count": 34,
      "outputs": []
    },
    {
      "cell_type": "code",
      "source": [
        "FirstNNclassforme=firstNN()"
      ],
      "metadata": {
        "id": "8ZSzj6A4Cv7k"
      },
      "execution_count": 35,
      "outputs": []
    },
    {
      "cell_type": "code",
      "source": [
        "X=torch.linspace(start=1, end=2.3, steps=60)\n",
        "X"
      ],
      "metadata": {
        "colab": {
          "base_uri": "https://localhost:8080/"
        },
        "id": "TVsBhTZ5JXwD",
        "outputId": "aad25a97-0df3-4678-9c33-1999672bed9d"
      },
      "execution_count": 36,
      "outputs": [
        {
          "output_type": "execute_result",
          "data": {
            "text/plain": [
              "tensor([1.0000, 1.0220, 1.0441, 1.0661, 1.0881, 1.1102, 1.1322, 1.1542, 1.1763,\n",
              "        1.1983, 1.2203, 1.2424, 1.2644, 1.2864, 1.3085, 1.3305, 1.3525, 1.3746,\n",
              "        1.3966, 1.4186, 1.4407, 1.4627, 1.4847, 1.5068, 1.5288, 1.5508, 1.5729,\n",
              "        1.5949, 1.6169, 1.6390, 1.6610, 1.6831, 1.7051, 1.7271, 1.7492, 1.7712,\n",
              "        1.7932, 1.8153, 1.8373, 1.8593, 1.8814, 1.9034, 1.9254, 1.9475, 1.9695,\n",
              "        1.9915, 2.0136, 2.0356, 2.0576, 2.0797, 2.1017, 2.1237, 2.1458, 2.1678,\n",
              "        2.1898, 2.2119, 2.2339, 2.2559, 2.2780, 2.3000])"
            ]
          },
          "metadata": {},
          "execution_count": 36
        }
      ]
    },
    {
      "cell_type": "code",
      "source": [
        "Y=FirstNNclassforme(X)\n",
        "Y"
      ],
      "metadata": {
        "colab": {
          "base_uri": "https://localhost:8080/"
        },
        "id": "H7IUUGfuKtxB",
        "outputId": "2fe0b0f4-e1da-4b2b-b5da-77b8b63d5ea6"
      },
      "execution_count": 37,
      "outputs": [
        {
          "output_type": "execute_result",
          "data": {
            "text/plain": [
              "tensor([0.4686, 0.4692, 0.4698, 0.4703, 0.4709, 0.4714, 0.4719, 0.4724, 0.4730,\n",
              "        0.4735, 0.4740, 0.4744, 0.4749, 0.4754, 0.4758, 0.4763, 0.4767, 0.4772,\n",
              "        0.4776, 0.4780, 0.4784, 0.4788, 0.4792, 0.4796, 0.4800, 0.4804, 0.4807,\n",
              "        0.4811, 0.4814, 0.4818, 0.4821, 0.4825, 0.4828, 0.4831, 0.4834, 0.4837,\n",
              "        0.4840, 0.4843, 0.4846, 0.4849, 0.4852, 0.4855, 0.4858, 0.4860, 0.4863,\n",
              "        0.4865, 0.4868, 0.4870, 0.4873, 0.4875, 0.4878, 0.4880, 0.4882, 0.4884,\n",
              "        0.4887, 0.4889, 0.4891, 0.4893, 0.4895, 0.4897])"
            ]
          },
          "metadata": {},
          "execution_count": 37
        }
      ]
    },
    {
      "cell_type": "code",
      "source": [
        "sns.set(style=\"whitegrid\")\n",
        "\n",
        "sns.lineplot(\n",
        "    x=X,\n",
        "    y=Y,\n",
        "    color='red',\n",
        "    linewidth=3\n",
        ")\n",
        "\n",
        "\n",
        "plt.xlabel('X')\n",
        "plt.ylabel('Y')"
      ],
      "metadata": {
        "colab": {
          "base_uri": "https://localhost:8080/",
          "height": 495
        },
        "id": "qkHYthG_LxhT",
        "outputId": "87b96dea-69ae-4df7-b3fc-d7f72e0caf2f"
      },
      "execution_count": 38,
      "outputs": [
        {
          "output_type": "execute_result",
          "data": {
            "text/plain": [
              "Text(0, 0.5, 'Y')"
            ]
          },
          "metadata": {},
          "execution_count": 38
        },
        {
          "output_type": "display_data",
          "data": {
            "text/plain": [
              "<Figure size 640x480 with 1 Axes>"
            ],
            "image/png": "[encoded data removed]"
          },
          "metadata": {}
        }
      ]
    },
    {
      "cell_type": "code",
      "source": [
        "class firstNNModified(nn.Module):\n",
        "  def __init__(self):\n",
        "    super().__init__()\n",
        "    self.w00=nn.Parameter(torch.rand(1),requires_grad=True)\n",
        "    self.b00=nn.Parameter(torch.rand(1),requires_grad=True)\n",
        "    self.w01=nn.Parameter(torch.rand(1),requires_grad=True)\n",
        "    self.b01=nn.Parameter(torch.rand(1),requires_grad=True)\n",
        "    self.w02=nn.Parameter(torch.rand(1),requires_grad=True)\n",
        "    self.b02=nn.Parameter(torch.rand(1),requires_grad=True)\n",
        "    self.w10=nn.Parameter(torch.rand(1),requires_grad=True)\n",
        "    self.w11=nn.Parameter(torch.rand(1),requires_grad=True)\n",
        "    self.w12=nn.Parameter(torch.rand(1),requires_grad=True)\n",
        "    self.w20=nn.Parameter(torch.rand(1),requires_grad=True)\n",
        "  def forward(self, input):\n",
        "        input_to_layer_01 = input * self.w00 + self.b00\n",
        "        layer_01_output = F.sigmoid(input_to_layer_01)\n",
        "        layer_01_output = layer_01_output * self.w10\n",
        "\n",
        "        input_to_layer_02 = input * self.w01 + self.b01\n",
        "        layer_02_output = F.sigmoid(input_to_layer_02)\n",
        "        layer_02_output = layer_02_output * self.w11\n",
        "\n",
        "        input_to_layer_03 = input * self.w02 + self.b02\n",
        "        layer_03_output = F.sigmoid(input_to_layer_03)\n",
        "        layer_03_output = layer_03_output * self.w12\n",
        "\n",
        "        output = layer_01_output + layer_02_output + layer_03_output\n",
        "\n",
        "        output = F.tanh(output)\n",
        "        output = output * self.w20\n",
        "        return output"
      ],
      "metadata": {
        "id": "2QhvrYIDODmp"
      },
      "execution_count": 39,
      "outputs": []
    },
    {
      "cell_type": "code",
      "source": [
        "firstNNModifiedforme=firstNNModified()"
      ],
      "metadata": {
        "id": "C6bgyn5RRFpd"
      },
      "execution_count": 40,
      "outputs": []
    },
    {
      "cell_type": "code",
      "source": [
        "newy=firstNNModifiedforme(X)"
      ],
      "metadata": {
        "id": "GU1MfpGxTZ9X"
      },
      "execution_count": 41,
      "outputs": []
    },
    {
      "cell_type": "code",
      "source": [
        "sns.set(style=\"whitegrid\")\n",
        "\n",
        "sns.lineplot(\n",
        "    x=X,\n",
        "    y=newy.detach(),\n",
        "    color='red',\n",
        "    linewidth=3\n",
        ")\n",
        "\n",
        "\n",
        "plt.xlabel('X')\n",
        "plt.ylabel('Y')"
      ],
      "metadata": {
        "colab": {
          "base_uri": "https://localhost:8080/",
          "height": 495
        },
        "id": "baUtaze4Th_b",
        "outputId": "9b9bafed-cd32-4a62-a55a-e41cd35709ac"
      },
      "execution_count": 42,
      "outputs": [
        {
          "output_type": "execute_result",
          "data": {
            "text/plain": [
              "Text(0, 0.5, 'Y')"
            ]
          },
          "metadata": {},
          "execution_count": 42
        },
        {
          "output_type": "display_data",
          "data": {
            "text/plain": [
              "<Figure size 640x480 with 1 Axes>"
            ],
            "image/png": "[encoded data removed]"
          },
          "metadata": {}
        }
      ]
    },
    {
      "cell_type": "code",
      "source": [
        "optimizer = SGD(firstNNModifiedforme.parameters(), lr=0.01)\n",
        "loss = nn.MSELoss()"
      ],
      "metadata": {
        "id": "r6FK_K2Ehzi4"
      },
      "execution_count": 43,
      "outputs": []
    },
    {
      "cell_type": "code",
      "source": [
        "for epoch in range(100):\n",
        "    total_loss = 0\n",
        "\n",
        "    for i in range(len(X)):\n",
        "        input_i = X[i]\n",
        "        actual_output_i = Y[i]\n",
        "\n",
        "        pred_output_i = firstNNModifiedforme(input_i)\n",
        "\n",
        "        loss_value = loss(pred_output_i, actual_output_i)\n",
        "\n",
        "        loss_value.backward()\n",
        "\n",
        "        total_loss += loss_value\n",
        "\n",
        "    print('Epoch: ', epoch, ' | Total Loss: ', total_loss)\n",
        "    optimizer.step()\n",
        "    optimizer.zero_grad()"
      ],
      "metadata": {
        "colab": {
          "base_uri": "https://localhost:8080/"
        },
        "id": "MkZK1APsS5PH",
        "outputId": "ed25bd73-ce92-4e08-d131-d46ce2214e13"
      },
      "execution_count": 44,
      "outputs": [
        {
          "output_type": "stream",
          "name": "stderr",
          "text": [
            "/usr/local/lib/python3.10/dist-packages/torch/nn/modules/loss.py:538: UserWarning: Using a target size (torch.Size([])) that is different to the input size (torch.Size([1])). This will likely lead to incorrect results due to broadcasting. Please ensure they have the same size.\n",
            "  return F.mse_loss(input, target, reduction=self.reduction)\n"
          ]
        },
        {
          "output_type": "stream",
          "name": "stdout",
          "text": [
            "Epoch:  0  | Total Loss:  tensor(8.2042, grad_fn=<AddBackward0>)\n",
            "Epoch:  1  | Total Loss:  tensor(0.6149, grad_fn=<AddBackward0>)\n",
            "Epoch:  2  | Total Loss:  tensor(0.0179, grad_fn=<AddBackward0>)\n",
            "Epoch:  3  | Total Loss:  tensor(0.0003, grad_fn=<AddBackward0>)\n",
            "Epoch:  4  | Total Loss:  tensor(2.2456e-05, grad_fn=<AddBackward0>)\n",
            "Epoch:  5  | Total Loss:  tensor(1.7900e-05, grad_fn=<AddBackward0>)\n",
            "Epoch:  6  | Total Loss:  tensor(1.7830e-05, grad_fn=<AddBackward0>)\n",
            "Epoch:  7  | Total Loss:  tensor(1.7828e-05, grad_fn=<AddBackward0>)\n",
            "Epoch:  8  | Total Loss:  tensor(1.7827e-05, grad_fn=<AddBackward0>)\n",
            "Epoch:  9  | Total Loss:  tensor(1.7825e-05, grad_fn=<AddBackward0>)\n",
            "Epoch:  10  | Total Loss:  tensor(1.7823e-05, grad_fn=<AddBackward0>)\n",
            "Epoch:  11  | Total Loss:  tensor(1.7822e-05, grad_fn=<AddBackward0>)\n",
            "Epoch:  12  | Total Loss:  tensor(1.7820e-05, grad_fn=<AddBackward0>)\n",
            "Epoch:  13  | Total Loss:  tensor(1.7819e-05, grad_fn=<AddBackward0>)\n",
            "Epoch:  14  | Total Loss:  tensor(1.7817e-05, grad_fn=<AddBackward0>)\n",
            "Epoch:  15  | Total Loss:  tensor(1.7815e-05, grad_fn=<AddBackward0>)\n",
            "Epoch:  16  | Total Loss:  tensor(1.7814e-05, grad_fn=<AddBackward0>)\n",
            "Epoch:  17  | Total Loss:  tensor(1.7812e-05, grad_fn=<AddBackward0>)\n",
            "Epoch:  18  | Total Loss:  tensor(1.7811e-05, grad_fn=<AddBackward0>)\n",
            "Epoch:  19  | Total Loss:  tensor(1.7809e-05, grad_fn=<AddBackward0>)\n",
            "Epoch:  20  | Total Loss:  tensor(1.7808e-05, grad_fn=<AddBackward0>)\n",
            "Epoch:  21  | Total Loss:  tensor(1.7806e-05, grad_fn=<AddBackward0>)\n",
            "Epoch:  22  | Total Loss:  tensor(1.7805e-05, grad_fn=<AddBackward0>)\n",
            "Epoch:  23  | Total Loss:  tensor(1.7803e-05, grad_fn=<AddBackward0>)\n",
            "Epoch:  24  | Total Loss:  tensor(1.7801e-05, grad_fn=<AddBackward0>)\n",
            "Epoch:  25  | Total Loss:  tensor(1.7800e-05, grad_fn=<AddBackward0>)\n",
            "Epoch:  26  | Total Loss:  tensor(1.7798e-05, grad_fn=<AddBackward0>)\n",
            "Epoch:  27  | Total Loss:  tensor(1.7797e-05, grad_fn=<AddBackward0>)\n",
            "Epoch:  28  | Total Loss:  tensor(1.7795e-05, grad_fn=<AddBackward0>)\n",
            "Epoch:  29  | Total Loss:  tensor(1.7794e-05, grad_fn=<AddBackward0>)\n",
            "Epoch:  30  | Total Loss:  tensor(1.7792e-05, grad_fn=<AddBackward0>)\n",
            "Epoch:  31  | Total Loss:  tensor(1.7790e-05, grad_fn=<AddBackward0>)\n",
            "Epoch:  32  | Total Loss:  tensor(1.7789e-05, grad_fn=<AddBackward0>)\n",
            "Epoch:  33  | Total Loss:  tensor(1.7788e-05, grad_fn=<AddBackward0>)\n",
            "Epoch:  34  | Total Loss:  tensor(1.7786e-05, grad_fn=<AddBackward0>)\n",
            "Epoch:  35  | Total Loss:  tensor(1.7784e-05, grad_fn=<AddBackward0>)\n",
            "Epoch:  36  | Total Loss:  tensor(1.7783e-05, grad_fn=<AddBackward0>)\n",
            "Epoch:  37  | Total Loss:  tensor(1.7781e-05, grad_fn=<AddBackward0>)\n",
            "Epoch:  38  | Total Loss:  tensor(1.7780e-05, grad_fn=<AddBackward0>)\n",
            "Epoch:  39  | Total Loss:  tensor(1.7778e-05, grad_fn=<AddBackward0>)\n",
            "Epoch:  40  | Total Loss:  tensor(1.7777e-05, grad_fn=<AddBackward0>)\n",
            "Epoch:  41  | Total Loss:  tensor(1.7775e-05, grad_fn=<AddBackward0>)\n",
            "Epoch:  42  | Total Loss:  tensor(1.7774e-05, grad_fn=<AddBackward0>)\n",
            "Epoch:  43  | Total Loss:  tensor(1.7772e-05, grad_fn=<AddBackward0>)\n",
            "Epoch:  44  | Total Loss:  tensor(1.7770e-05, grad_fn=<AddBackward0>)\n",
            "Epoch:  45  | Total Loss:  tensor(1.7769e-05, grad_fn=<AddBackward0>)\n",
            "Epoch:  46  | Total Loss:  tensor(1.7767e-05, grad_fn=<AddBackward0>)\n",
            "Epoch:  47  | Total Loss:  tensor(1.7766e-05, grad_fn=<AddBackward0>)\n",
            "Epoch:  48  | Total Loss:  tensor(1.7765e-05, grad_fn=<AddBackward0>)\n",
            "Epoch:  49  | Total Loss:  tensor(1.7763e-05, grad_fn=<AddBackward0>)\n",
            "Epoch:  50  | Total Loss:  tensor(1.7761e-05, grad_fn=<AddBackward0>)\n",
            "Epoch:  51  | Total Loss:  tensor(1.7760e-05, grad_fn=<AddBackward0>)\n",
            "Epoch:  52  | Total Loss:  tensor(1.7758e-05, grad_fn=<AddBackward0>)\n",
            "Epoch:  53  | Total Loss:  tensor(1.7757e-05, grad_fn=<AddBackward0>)\n",
            "Epoch:  54  | Total Loss:  tensor(1.7755e-05, grad_fn=<AddBackward0>)\n",
            "Epoch:  55  | Total Loss:  tensor(1.7753e-05, grad_fn=<AddBackward0>)\n",
            "Epoch:  56  | Total Loss:  tensor(1.7752e-05, grad_fn=<AddBackward0>)\n",
            "Epoch:  57  | Total Loss:  tensor(1.7751e-05, grad_fn=<AddBackward0>)\n",
            "Epoch:  58  | Total Loss:  tensor(1.7749e-05, grad_fn=<AddBackward0>)\n",
            "Epoch:  59  | Total Loss:  tensor(1.7748e-05, grad_fn=<AddBackward0>)\n",
            "Epoch:  60  | Total Loss:  tensor(1.7746e-05, grad_fn=<AddBackward0>)\n",
            "Epoch:  61  | Total Loss:  tensor(1.7744e-05, grad_fn=<AddBackward0>)\n",
            "Epoch:  62  | Total Loss:  tensor(1.7743e-05, grad_fn=<AddBackward0>)\n",
            "Epoch:  63  | Total Loss:  tensor(1.7741e-05, grad_fn=<AddBackward0>)\n",
            "Epoch:  64  | Total Loss:  tensor(1.7740e-05, grad_fn=<AddBackward0>)\n",
            "Epoch:  65  | Total Loss:  tensor(1.7738e-05, grad_fn=<AddBackward0>)\n",
            "Epoch:  66  | Total Loss:  tensor(1.7737e-05, grad_fn=<AddBackward0>)\n",
            "Epoch:  67  | Total Loss:  tensor(1.7735e-05, grad_fn=<AddBackward0>)\n",
            "Epoch:  68  | Total Loss:  tensor(1.7734e-05, grad_fn=<AddBackward0>)\n",
            "Epoch:  69  | Total Loss:  tensor(1.7732e-05, grad_fn=<AddBackward0>)\n",
            "Epoch:  70  | Total Loss:  tensor(1.7731e-05, grad_fn=<AddBackward0>)\n",
            "Epoch:  71  | Total Loss:  tensor(1.7729e-05, grad_fn=<AddBackward0>)\n",
            "Epoch:  72  | Total Loss:  tensor(1.7728e-05, grad_fn=<AddBackward0>)\n",
            "Epoch:  73  | Total Loss:  tensor(1.7726e-05, grad_fn=<AddBackward0>)\n",
            "Epoch:  74  | Total Loss:  tensor(1.7725e-05, grad_fn=<AddBackward0>)\n",
            "Epoch:  75  | Total Loss:  tensor(1.7723e-05, grad_fn=<AddBackward0>)\n",
            "Epoch:  76  | Total Loss:  tensor(1.7722e-05, grad_fn=<AddBackward0>)\n",
            "Epoch:  77  | Total Loss:  tensor(1.7720e-05, grad_fn=<AddBackward0>)\n",
            "Epoch:  78  | Total Loss:  tensor(1.7718e-05, grad_fn=<AddBackward0>)\n",
            "Epoch:  79  | Total Loss:  tensor(1.7717e-05, grad_fn=<AddBackward0>)\n",
            "Epoch:  80  | Total Loss:  tensor(1.7715e-05, grad_fn=<AddBackward0>)\n",
            "Epoch:  81  | Total Loss:  tensor(1.7714e-05, grad_fn=<AddBackward0>)\n",
            "Epoch:  82  | Total Loss:  tensor(1.7712e-05, grad_fn=<AddBackward0>)\n",
            "Epoch:  83  | Total Loss:  tensor(1.7711e-05, grad_fn=<AddBackward0>)\n",
            "Epoch:  84  | Total Loss:  tensor(1.7709e-05, grad_fn=<AddBackward0>)\n",
            "Epoch:  85  | Total Loss:  tensor(1.7708e-05, grad_fn=<AddBackward0>)\n",
            "Epoch:  86  | Total Loss:  tensor(1.7706e-05, grad_fn=<AddBackward0>)\n",
            "Epoch:  87  | Total Loss:  tensor(1.7705e-05, grad_fn=<AddBackward0>)\n",
            "Epoch:  88  | Total Loss:  tensor(1.7704e-05, grad_fn=<AddBackward0>)\n",
            "Epoch:  89  | Total Loss:  tensor(1.7702e-05, grad_fn=<AddBackward0>)\n",
            "Epoch:  90  | Total Loss:  tensor(1.7700e-05, grad_fn=<AddBackward0>)\n",
            "Epoch:  91  | Total Loss:  tensor(1.7699e-05, grad_fn=<AddBackward0>)\n",
            "Epoch:  92  | Total Loss:  tensor(1.7697e-05, grad_fn=<AddBackward0>)\n",
            "Epoch:  93  | Total Loss:  tensor(1.7696e-05, grad_fn=<AddBackward0>)\n",
            "Epoch:  94  | Total Loss:  tensor(1.7694e-05, grad_fn=<AddBackward0>)\n",
            "Epoch:  95  | Total Loss:  tensor(1.7693e-05, grad_fn=<AddBackward0>)\n",
            "Epoch:  96  | Total Loss:  tensor(1.7691e-05, grad_fn=<AddBackward0>)\n",
            "Epoch:  97  | Total Loss:  tensor(1.7690e-05, grad_fn=<AddBackward0>)\n",
            "Epoch:  98  | Total Loss:  tensor(1.7688e-05, grad_fn=<AddBackward0>)\n",
            "Epoch:  99  | Total Loss:  tensor(1.7687e-05, grad_fn=<AddBackward0>)\n"
          ]
        }
      ]
    },
    {
      "cell_type": "code",
      "source": [
        "pred_y = firstNNModifiedforme(X)\n",
        "pred_y"
      ],
      "metadata": {
        "colab": {
          "base_uri": "https://localhost:8080/"
        },
        "id": "CRX7v2w-TI-d",
        "outputId": "de08ae24-5f5f-46cf-e09b-5f07ed1561b5"
      },
      "execution_count": 45,
      "outputs": [
        {
          "output_type": "execute_result",
          "data": {
            "text/plain": [
              "tensor([0.4702, 0.4706, 0.4710, 0.4714, 0.4719, 0.4723, 0.4727, 0.4731, 0.4735,\n",
              "        0.4739, 0.4743, 0.4747, 0.4751, 0.4755, 0.4758, 0.4762, 0.4766, 0.4770,\n",
              "        0.4773, 0.4777, 0.4781, 0.4784, 0.4788, 0.4792, 0.4795, 0.4799, 0.4802,\n",
              "        0.4806, 0.4809, 0.4812, 0.4816, 0.4819, 0.4822, 0.4826, 0.4829, 0.4832,\n",
              "        0.4835, 0.4839, 0.4842, 0.4845, 0.4848, 0.4851, 0.4854, 0.4857, 0.4860,\n",
              "        0.4863, 0.4866, 0.4869, 0.4872, 0.4875, 0.4878, 0.4881, 0.4883, 0.4886,\n",
              "        0.4889, 0.4892, 0.4894, 0.4897, 0.4900, 0.4903],\n",
              "       grad_fn=<MulBackward0>)"
            ]
          },
          "metadata": {},
          "execution_count": 45
        }
      ]
    },
    {
      "cell_type": "code",
      "source": [
        "sns.set(style=\"whitegrid\")\n",
        "\n",
        "sns.lineplot(\n",
        "    x=X,\n",
        "    y=pred_y.detach(),\n",
        "    color='red',\n",
        "    linewidth=3\n",
        ")\n",
        "\n",
        "\n",
        "plt.xlabel('X')\n",
        "plt.ylabel('Y')"
      ],
      "metadata": {
        "colab": {
          "base_uri": "https://localhost:8080/",
          "height": 495
        },
        "id": "vo8wDSLKT8qd",
        "outputId": "257fb855-c552-4531-c972-5d17cc4c783c"
      },
      "execution_count": 46,
      "outputs": [
        {
          "output_type": "execute_result",
          "data": {
            "text/plain": [
              "Text(0, 0.5, 'Y')"
            ]
          },
          "metadata": {},
          "execution_count": 46
        },
        {
          "output_type": "display_data",
          "data": {
            "text/plain": [
              "<Figure size 640x480 with 1 Axes>"
            ],
            "image/png": "[encoded data removed]"
          },
          "metadata": {}
        }
      ]
    }
  ]
}